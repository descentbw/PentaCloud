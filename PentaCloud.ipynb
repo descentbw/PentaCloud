{
 "cells": [
  {
   "cell_type": "code",
   "execution_count": 103,
   "metadata": {},
   "outputs": [],
   "source": [
    "# Connecting to MySQL database\n",
    "\n",
    "import mysql.connector as mcdb\n",
    "mysqldb = mcdb.connect(host='localhost', user='root', passwd='', db='PentaCloud') #Insert personal sql passwd\n",
    "mycursor = mysqldb.cursor()"
   ]
  },
  {
   "cell_type": "code",
   "execution_count": 104,
   "metadata": {},
   "outputs": [],
   "source": [
    "# Adding a new organisation to the database\n",
    "\n",
    "def addOrganisation(name):\n",
    "    try:\n",
    "        mycursor.execute(f\"SELECT * FROM Organisation WHERE Name = '{name}'\")\n",
    "        if len(mycursor.fetchall()) > 0:\n",
    "            print(name + ' is already registered.')\n",
    "        else:\n",
    "            mycursor.execute(f\"INSERT INTO Organisation (Name, Alert, Source) VALUES ('{name}', 'Normal', 'Source')\")\n",
    "            mysqldb.commit()\n",
    "            print(name + ' has been successfully registered!')\n",
    "    except:\n",
    "        mysqldb.rollback()\n",
    "        print('Error.')"
   ]
  },
  {
   "cell_type": "code",
   "execution_count": 105,
   "metadata": {},
   "outputs": [],
   "source": [
    "# Adding a new supply link to the database, along with the price of the product delivered\n",
    "\n",
    "def addLink(fromOrg, toOrg, price):\n",
    "    try:\n",
    "        mycursor.execute(f\"SELECT * FROM SupplyLink WHERE FromOrg = '{fromOrg}' AND ToOrg = '{toOrg}'\")\n",
    "        if len(mycursor.fetchall()) > 0:\n",
    "            print('Supply link from ' + fromOrg + ' to ' + toOrg +  ' is already registered.')\n",
    "        else:\n",
    "            mycursor.execute(f\"SELECT * FROM Organisation WHERE Name = '{fromOrg}'\")\n",
    "            if len(mycursor.fetchall()) == 0:\n",
    "                addOrganisation(fromOrg)\n",
    "            mycursor.execute(f\"SELECT * FROM Organisation WHERE Name = '{toOrg}'\")\n",
    "            result = mycursor.fetchall()\n",
    "            if len(result) == 0:\n",
    "                addOrganisation(toOrg)\n",
    "                mycursor.execute(f\"UPDATE Organisation SET Source = 'Non-source' WHERE Name = '{toOrg}'\")\n",
    "                mysqldb.commit()\n",
    "            elif result[0][3] == \"Source\":\n",
    "                mycursor.execute(f\"UPDATE Organisation SET Source = 'Non-source' WHERE Name = '{toOrg}'\")\n",
    "                mysqldb.commit()\n",
    "                \n",
    "            mycursor.execute(\n",
    "                f\"INSERT into SupplyLink (FromOrg, ToOrg, Price) VALUES ('{fromOrg}', '{toOrg}', '{price}')\")\n",
    "            mysqldb.commit()\n",
    "            print('Supply link from ' + fromOrg + ' to ' + toOrg +  ' has been successfully recorded!')\n",
    "    except:\n",
    "        mysqldb.rollback()\n",
    "        print('Error.')"
   ]
  },
  {
   "cell_type": "code",
   "execution_count": 106,
   "metadata": {},
   "outputs": [],
   "source": [
    "# Ammend the alert status of a company when a crisis has severely impacted the companny, and ammend it back after a crisis\n",
    "\n",
    "def changeAlert(name):\n",
    "    try:\n",
    "        mycursor.execute(f\"SELECT * FROM Organisation WHERE Name = '{name}'\")\n",
    "        result = mycursor.fetchall()\n",
    "        if len(result) > 0:\n",
    "            if result[0][2] == \"Normal\":\n",
    "                mycursor.execute(f\"UPDATE Organisation SET Alert = 'Crisis' WHERE Name = '{name}'\")\n",
    "                mycursor.execute(f\"SELECT LinkID FROM SupplyLink WHERE fromOrg = '{name}'\")\n",
    "                result2 = mycursor.fetchall()[0]\n",
    "                for link in result2:\n",
    "                    # Supply price increase by an arbitary figure of $100 during a crisis. \n",
    "                    # Actual price increment figure will be determined by extent of demand and supply changes.\n",
    "                    mycursor.execute(f\"UPDATE SupplyLink SET Price = Price + 100 WHERE LinkID = '{link}'\")\n",
    "                print(name + '\\'s alert status successfully ammended to Crisis!')\n",
    "            elif result[0][2] == \"Crisis\":\n",
    "                mycursor.execute(f\"UPDATE Organisation SET Alert = 'Normal' WHERE Name = '{name}'\")\n",
    "                mycursor.execute(f\"SELECT LinkID FROM SupplyLink WHERE fromOrg = '{name}'\")\n",
    "                result2 = mycursor.fetchall()[0]\n",
    "                for link in result2:\n",
    "                    # Supply price reduces back by the arbitary figure of $100.\n",
    "                    mycursor.execute(f\"UPDATE SupplyLink SET Price = Price - 100 WHERE LinkID = '{link}'\")\n",
    "                print(name + '\\'s alert status successfully ammended to Normal!')\n",
    "        else:\n",
    "            print(name + ' is not registered.')\n",
    "        mysqldb.commit()\n",
    "    except:\n",
    "        mysqldb.rollback()\n",
    "        print('Error.')"
   ]
  },
  {
   "cell_type": "code",
   "execution_count": 107,
   "metadata": {},
   "outputs": [],
   "source": [
    "# Determines the best supplier for the company\n",
    "\n",
    "def findBestSupplier(company):\n",
    "    G = nx.DiGraph()\n",
    "    \n",
    "    mycursor.execute(f\"SELECT * FROM Organisation WHERE Name = '{company}'\")\n",
    "    if len(mycursor.fetchall()) == 0:\n",
    "        return company + \" is not registered.\"\n",
    "\n",
    "    mycursor.execute(f\"SELECT Name, Alert FROM Organisation\")\n",
    "    result = mycursor.fetchall()\n",
    "    G.add_nodes_from(list(map(lambda x: x[0], result)))\n",
    "\n",
    "    mycursor.execute(f\"SELECT FromOrg, ToOrg, Price FROM SupplyLink\")\n",
    "    G.add_weighted_edges_from(mycursor.fetchall())\n",
    "    \n",
    "    mycursor.execute(f\"SELECT Name, Source FROM Organisation\")\n",
    "    sourceOrgs = set(map(lambda y: y[0], filter(lambda x: x[1] == \"Source\", mycursor.fetchall())))\n",
    "\n",
    "    p = nx.multi_source_dijkstra(G, sourceOrgs, company)\n",
    "    if len(p[1]) == 1:\n",
    "        return \"There are no available suppliers registered.\"\n",
    "    return p[1][-2]"
   ]
  },
  {
   "cell_type": "code",
   "execution_count": 108,
   "metadata": {},
   "outputs": [],
   "source": [
    "# Displays all possible suppliers, arranged by increasing price\n",
    "\n",
    "def viewMySuppliers(company):\n",
    "    mycursor.execute(f\"SELECT FromOrg, Price FROM SupplyLink WHERE ToOrg = '{company}'\")\n",
    "    result = list(mycursor.fetchall())\n",
    "    result.sort(key = lambda x: x[1])\n",
    "    return list(map(lambda y: y[0], result))"
   ]
  },
  {
   "cell_type": "code",
   "execution_count": 109,
   "metadata": {},
   "outputs": [],
   "source": [
    "import networkx as nx\n",
    "\n",
    "# Displays graph for visualisation (for internal use; not shown to organisations)\n",
    "\n",
    "def depictGraph():\n",
    "    G = nx.DiGraph()\n",
    "\n",
    "    mycursor.execute(f\"SELECT Name, Alert FROM Organisation\")\n",
    "    result = mycursor.fetchall()\n",
    "    G.add_nodes_from(list(map(lambda x: x[0], result)))\n",
    "\n",
    "    color_map = list(map(lambda x: \"green\" if x[1] == \"Normal\" else \"red\", result))\n",
    "\n",
    "    mycursor.execute(f\"SELECT FromOrg, ToOrg, Price FROM SupplyLink\")\n",
    "    G.add_weighted_edges_from(mycursor.fetchall())\n",
    "\n",
    "    nx.draw_networkx(G, node_color=color_map, with_labels = True)"
   ]
  },
  {
   "cell_type": "code",
   "execution_count": 110,
   "metadata": {},
   "outputs": [
    {
     "name": "stdout",
     "output_type": "stream",
     "text": [
      "Amaze Resources has been successfully registered!\n",
      "Best Supplies has been successfully registered!\n",
      "Cando Materials has been successfully registered!\n",
      "Delight Items has been successfully registered!\n",
      "Eager Consumables has been successfully registered!\n",
      "Supply link from Amaze Resources to Best Supplies has been successfully recorded!\n",
      "Supply link from Amaze Resources to Cando Materials has been successfully recorded!\n",
      "Supply link from Best Supplies to Delight Items has been successfully recorded!\n",
      "Supply link from Cando Materials to Delight Items has been successfully recorded!\n",
      "Supply link from Cando Materials to Eager Consumables has been successfully recorded!\n",
      "Cando Materials\n",
      "['Cando Materials', 'Best Supplies']\n",
      "Cando Materials's alert status successfully ammended to Crisis!\n",
      "Best Supplies\n",
      "['Best Supplies', 'Cando Materials']\n"
     ]
    },
    {
     "data": {
      "image/png": "[encoded data removed]",
      "text/plain": [
       "<Figure size 432x288 with 1 Axes>"
      ]
     },
     "metadata": {},
     "output_type": "display_data"
    }
   ],
   "source": [
    "# Test cases\n",
    "\n",
    "addOrganisation(\"Amaze Resources\")\n",
    "addOrganisation(\"Best Supplies\")\n",
    "addOrganisation(\"Cando Materials\")\n",
    "addOrganisation(\"Delight Items\")\n",
    "addOrganisation(\"Eager Consumables\")\n",
    "\n",
    "addLink(\"Amaze Resources\", \"Best Supplies\", 170)\n",
    "addLink(\"Amaze Resources\", \"Cando Materials\", 150)\n",
    "addLink(\"Best Supplies\", \"Delight Items\", 120)\n",
    "addLink(\"Cando Materials\", \"Delight Items\", 100)\n",
    "addLink(\"Cando Materials\", \"Eager Consumables\", 130)\n",
    "\n",
    "print(findBestSupplier('Delight Items'))\n",
    "print(viewMySuppliers('Delight Items'))\n",
    "\n",
    "changeAlert(\"Cando Materials\")\n",
    "\n",
    "print(findBestSupplier('Delight Items'))\n",
    "print(viewMySuppliers('Delight Items'))\n",
    "depictGraph()"
   ]
  }
 ],
 "metadata": {
  "kernelspec": {
   "display_name": "Python 3",
   "language": "python",
   "name": "python3"
  },
  "language_info": {
   "codemirror_mode": {
    "name": "ipython",
    "version": 3
   },
   "file_extension": ".py",
   "mimetype": "text/x-python",
   "name": "python",
   "nbconvert_exporter": "python",
   "pygments_lexer": "ipython3",
   "version": "3.8.3"
  }
 },
 "nbformat": 4,
 "nbformat_minor": 4
}
